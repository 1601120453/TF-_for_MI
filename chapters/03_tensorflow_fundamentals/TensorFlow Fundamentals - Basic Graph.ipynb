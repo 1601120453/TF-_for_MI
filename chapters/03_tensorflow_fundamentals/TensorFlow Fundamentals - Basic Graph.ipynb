{
 "cells": [
  {
   "cell_type": "markdown",
   "metadata": {
    "toc": "true"
   },
   "source": [
    "# Table of Contents\n",
    " <p>"
   ]
  },
  {
   "cell_type": "code",
   "execution_count": 1,
   "metadata": {
    "ExecuteTime": {
     "end_time": "2017-08-23T02:44:08.953658Z",
     "start_time": "2017-08-23T02:44:06.801199Z"
    },
    "collapsed": true
   },
   "outputs": [],
   "source": [
    "# Import the tensorflow library, and reference it as `tf`\n",
    "import tensorflow as tf\n",
    "\n",
    "# Build our graph nodes, starting from the inputs\n",
    "a = tf.constant(5, name=\"input_a\")\n",
    "b = tf.constant(3, name=\"input_b\")\n",
    "c = tf.multiply(a,b, name=\"mul_c\")\n",
    "d = tf.add(a,b, name=\"add_d\")\n",
    "e = tf.add(c,d, name=\"add_e\")\n",
    "\n",
    "# Open up a TensorFlow Session\n",
    "sess = tf.Session()\n",
    "\n",
    "# Execute our output node, using our Session\n",
    "output = sess.run(e)\n",
    "\n",
    "# Open a TensorFlow SummaryWriter to write our graph to disk\n",
    "writer = tf.summary.FileWriter(\"./my_graph\", sess.graph)\n",
    "\n",
    "# Close our SummaryWriter and Session objects\n",
    "writer.close()\n",
    "sess.close()\n",
    "\n",
    "# To start TensorBoard after running this file, execute the following command:\n",
    "# tensorboard --logdir=F://Git/TF-_for_MI/chapters/03_tensorflow_fundamentals/my_graph"
   ]
  }
 ],
 "metadata": {
  "kernelspec": {
   "display_name": "Python 3",
   "language": "python",
   "name": "python3"
  },
  "language_info": {
   "codemirror_mode": {
    "name": "ipython",
    "version": 3
   },
   "file_extension": ".py",
   "mimetype": "text/x-python",
   "name": "python",
   "nbconvert_exporter": "python",
   "pygments_lexer": "ipython3",
   "version": "3.5.0"
  },
  "toc": {
   "colors": {
    "hover_highlight": "#DAA520",
    "navigate_num": "#008040",
    "navigate_text": "#00ff00",
    "running_highlight": "#FF0000",
    "selected_highlight": "#FFD700",
    "sidebar_border": "#8080ff",
    "wrapper_background": "#FFFFFF"
   },
   "moveMenuLeft": true,
   "nav_menu": {
    "height": "4px",
    "width": "254px"
   },
   "navigate_menu": true,
   "number_sections": true,
   "sideBar": true,
   "threshold": 4,
   "toc_cell": true,
   "toc_section_display": "block",
   "toc_window_display": false,
   "widenNotebook": false
  }
 },
 "nbformat": 4,
 "nbformat_minor": 1
}
