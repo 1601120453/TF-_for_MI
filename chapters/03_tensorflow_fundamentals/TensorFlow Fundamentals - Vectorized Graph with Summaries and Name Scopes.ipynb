{
 "cells": [
  {
   "cell_type": "markdown",
   "metadata": {
    "toc": "true"
   },
   "source": [
    "# Table of Contents\n",
    " <p>"
   ]
  },
  {
   "cell_type": "code",
   "execution_count": 1,
   "metadata": {
    "ExecuteTime": {
     "end_time": "2017-08-24T08:39:31.686876Z",
     "start_time": "2017-08-24T08:39:29.944548Z"
    },
    "collapsed": true
   },
   "outputs": [],
   "source": [
    "import tensorflow as tf\n",
    "import numpy as np"
   ]
  },
  {
   "cell_type": "code",
   "execution_count": 7,
   "metadata": {
    "ExecuteTime": {
     "end_time": "2017-08-24T09:12:58.965082Z",
     "start_time": "2017-08-24T09:12:58.456275Z"
    }
   },
   "outputs": [
    {
     "name": "stdout",
     "output_type": "stream",
     "text": [
      "WARNING:tensorflow:From C:\\Program Files\\Python 3.5\\lib\\site-packages\\tensorflow\\python\\util\\tf_should_use.py:170: initialize_all_variables (from tensorflow.python.ops.variables) is deprecated and will be removed after 2017-03-02.\n",
      "Instructions for updating:\n",
      "Use `tf.global_variables_initializer` instead.\n",
      "ERROR:tensorflow:==================================\n",
      "Object was never used (type <class 'tensorflow.python.framework.ops.Operation'>):\n",
      "<tf.Operation 'global_ops/init' type=NoOp>\n",
      "If you want to mark it as used call its \"mark_used()\" method.\n",
      "It was originally created here:\n",
      "['File \"C:\\\\Program Files\\\\Python 3.5\\\\lib\\\\runpy.py\", line 170, in _run_module_as_main\\n    \"__main__\", mod_spec)', 'File \"C:\\\\Program Files\\\\Python 3.5\\\\lib\\\\runpy.py\", line 85, in _run_code\\n    exec(code, run_globals)', 'File \"C:\\\\Program Files\\\\Python 3.5\\\\lib\\\\site-packages\\\\ipykernel_launcher.py\", line 16, in <module>\\n    app.launch_new_instance()', 'File \"C:\\\\Program Files\\\\Python 3.5\\\\lib\\\\site-packages\\\\traitlets\\\\config\\\\application.py\", line 658, in launch_instance\\n    app.start()', 'File \"C:\\\\Program Files\\\\Python 3.5\\\\lib\\\\site-packages\\\\ipykernel\\\\kernelapp.py\", line 477, in start\\n    ioloop.IOLoop.instance().start()', 'File \"C:\\\\Program Files\\\\Python 3.5\\\\lib\\\\site-packages\\\\zmq\\\\eventloop\\\\ioloop.py\", line 177, in start\\n    super(ZMQIOLoop, self).start()', 'File \"C:\\\\Program Files\\\\Python 3.5\\\\lib\\\\site-packages\\\\tornado\\\\ioloop.py\", line 888, in start\\n    handler_func(fd_obj, events)', 'File \"C:\\\\Program Files\\\\Python 3.5\\\\lib\\\\site-packages\\\\tornado\\\\stack_context.py\", line 277, in null_wrapper\\n    return fn(*args, **kwargs)', 'File \"C:\\\\Program Files\\\\Python 3.5\\\\lib\\\\site-packages\\\\zmq\\\\eventloop\\\\zmqstream.py\", line 440, in _handle_events\\n    self._handle_recv()', 'File \"C:\\\\Program Files\\\\Python 3.5\\\\lib\\\\site-packages\\\\zmq\\\\eventloop\\\\zmqstream.py\", line 472, in _handle_recv\\n    self._run_callback(callback, msg)', 'File \"C:\\\\Program Files\\\\Python 3.5\\\\lib\\\\site-packages\\\\zmq\\\\eventloop\\\\zmqstream.py\", line 414, in _run_callback\\n    callback(*args, **kwargs)', 'File \"C:\\\\Program Files\\\\Python 3.5\\\\lib\\\\site-packages\\\\tornado\\\\stack_context.py\", line 277, in null_wrapper\\n    return fn(*args, **kwargs)', 'File \"C:\\\\Program Files\\\\Python 3.5\\\\lib\\\\site-packages\\\\ipykernel\\\\kernelbase.py\", line 283, in dispatcher\\n    return self.dispatch_shell(stream, msg)', 'File \"C:\\\\Program Files\\\\Python 3.5\\\\lib\\\\site-packages\\\\ipykernel\\\\kernelbase.py\", line 235, in dispatch_shell\\n    handler(stream, idents, msg)', 'File \"C:\\\\Program Files\\\\Python 3.5\\\\lib\\\\site-packages\\\\ipykernel\\\\kernelbase.py\", line 399, in execute_request\\n    user_expressions, allow_stdin)', 'File \"C:\\\\Program Files\\\\Python 3.5\\\\lib\\\\site-packages\\\\ipykernel\\\\ipkernel.py\", line 196, in do_execute\\n    res = shell.run_cell(code, store_history=store_history, silent=silent)', 'File \"C:\\\\Program Files\\\\Python 3.5\\\\lib\\\\site-packages\\\\ipykernel\\\\zmqshell.py\", line 533, in run_cell\\n    return super(ZMQInteractiveShell, self).run_cell(*args, **kwargs)', 'File \"C:\\\\Program Files\\\\Python 3.5\\\\lib\\\\site-packages\\\\IPython\\\\core\\\\interactiveshell.py\", line 2698, in run_cell\\n    interactivity=interactivity, compiler=compiler, result=result)', 'File \"C:\\\\Program Files\\\\Python 3.5\\\\lib\\\\site-packages\\\\IPython\\\\core\\\\interactiveshell.py\", line 2802, in run_ast_nodes\\n    if self.run_code(code, result):', 'File \"C:\\\\Program Files\\\\Python 3.5\\\\lib\\\\site-packages\\\\IPython\\\\core\\\\interactiveshell.py\", line 2862, in run_code\\n    exec(code_obj, self.user_global_ns, self.user_ns)', 'File \"<ipython-input-6-d27fdb076178>\", line 52, in <module>\\n    init = tf.initialize_all_variables()', 'File \"C:\\\\Program Files\\\\Python 3.5\\\\lib\\\\site-packages\\\\tensorflow\\\\python\\\\util\\\\tf_should_use.py\", line 170, in wrapped\\n    return _add_should_use_warning(fn(*args, **kwargs))', 'File \"C:\\\\Program Files\\\\Python 3.5\\\\lib\\\\site-packages\\\\tensorflow\\\\python\\\\util\\\\tf_should_use.py\", line 139, in _add_should_use_warning\\n    wrapped = TFShouldUseWarningWrapper(x)', 'File \"C:\\\\Program Files\\\\Python 3.5\\\\lib\\\\site-packages\\\\tensorflow\\\\python\\\\util\\\\tf_should_use.py\", line 96, in __init__\\n    stack = [s.strip() for s in traceback.format_stack()]', 'File \"C:\\\\Program Files\\\\Python 3.5\\\\lib\\\\traceback.py\", line 189, in format_stack\\n    return format_list(extract_stack(f, limit=limit))', 'File \"C:\\\\Program Files\\\\Python 3.5\\\\lib\\\\traceback.py\", line 201, in extract_stack\\n    stack = StackSummary.extract(walk_stack(f), limit=limit)']\n",
      "==================================\n"
     ]
    }
   ],
   "source": [
    "# 新建一个图的对象,并将其设置为默认图\n",
    "graph = tf.Graph()\n",
    "\n",
    "with graph.as_default():\n",
    "    \n",
    "    with tf.name_scope(\"variables\"):\n",
    "        # 记录数据流程图运行次数的Variable对象\n",
    "        global_step = tf.Variable(0, dtype=tf.int32, name=\"global_step\")\n",
    "        \n",
    "        # 追踪该模型的所有输出随时间的累加和的Variable对象\n",
    "        total_output = tf.Variable(0.0, dtype=tf.float32, name=\"total_output\")\n",
    "    \n",
    "    # 核心变换操作\n",
    "    with tf.name_scope(\"transformation\"):\n",
    "        \n",
    "        # 独立的输入层\n",
    "        with tf.name_scope(\"input\"):\n",
    "            # 创建输出占位符,用于接收一个向量\n",
    "            a = tf.placeholder(tf.float32, shape=[None], name=\"input_placeholder_a\")\n",
    "    \n",
    "        # 独立的中间层\n",
    "        with tf.name_scope(\"intermediate_layer\"):\n",
    "            b = tf.reduce_prod(a, name=\"product_b\")\n",
    "            c = tf.reduce_sum(a, name=\"sum_c\")\n",
    "        \n",
    "        # 独立的输出层\n",
    "        with tf.name_scope(\"output\"):\n",
    "            output = tf.add(b, c, name=\"output\")\n",
    "        \n",
    "    with tf.name_scope(\"update\"):\n",
    "        # 用最新的输出更新Variable对象total_output\n",
    "        update_total = total_output.assign_add(output)\n",
    "        \n",
    "        # 将前面的Variable对象global_step增1,只要数据流图运行,该操作便需要运行.\n",
    "        increment_step = global_step.assign_add(1)\n",
    "    \n",
    "    # 总结操作\n",
    "    with tf.name_scope(\"summaries\"):\n",
    "        avg = tf.div(update_total, tf.cast(increment_step, tf.float32), name=\"average\")\n",
    "        # cast函数用于将int型数据转换为tf.float32数据类型\n",
    "        # 计算随时间输出的均值,获取当前全部输出的总和total_output(使用来自update_total的输出,以确保在计算avg之前更新便已经全部完成)\n",
    "        # 以及数据流图的总运行次数global_step(使用increment_step的输出,以确保数据流图有序运行)\n",
    "        # 为输出结点创建汇总数据\n",
    "        tf.summary.scalar(name=\"output_summary\", tensor=output)\n",
    "        tf.summary.scalar(name=\"total_summary\", tensor=update_total)\n",
    "        tf.summary.scalar(name=\"average_summary\", tensor=avg)\n",
    "    \n",
    "    # 全局变量和操作\n",
    "    # 为完成数据流图的构建,还需要创建Variable对象初始化Op和用于将所有汇总数据组织到一个Op的辅助结点,把他们放进名为\"global_ops\"的名称作用域\n",
    "    with tf.name_scope(\"global_ops\"):\n",
    "        # 初始化所有的变量\n",
    "        init = tf.initialize_all_variables()    \n",
    "        # 合并所有的汇总数据组织到一个Op的辅助节点\n",
    "        merged_summaries = tf.summary.merge_all()\n",
    "        \"\"\"将merge_all_summaries()与其他全局OPs放在一起是最佳做法,这可以想象为一个拥有Variable对象,Op和名称作用域等的不同汇总数据的数据流图\"\"\"\n",
    "\n",
    "# 使用显式创建的图形开始一个会话\n",
    "sess = tf.Session(graph=graph)\n",
    "\n",
    "# 用于保存汇总数据\n",
    "writer = tf.summary.FileWriter('./improved_graph', graph)\n",
    "\n",
    "# 初始化所有变量\n",
    "sess.run(init)"
   ]
  },
  {
   "cell_type": "code",
   "execution_count": 8,
   "metadata": {
    "ExecuteTime": {
     "end_time": "2017-08-24T09:13:43.207392Z",
     "start_time": "2017-08-24T09:13:43.181373Z"
    },
    "collapsed": true
   },
   "outputs": [],
   "source": [
    "def run_graph(input_tensor):\n",
    "    \"\"\"\n",
    "    帮助函数; 利用给定的张量作为输入并且保存汇总数据\n",
    "    \"\"\"\n",
    "    feed_dict = {a: input_tensor}  \n",
    "    # 其中a是一个占位符,用于输入数据,input_tensor表示a变量的数据e \n",
    "    out, step, summary = sess.run([output, increment_step, merged_summaries], feed_dict=feed_dict)\n",
    "    # sesstion.run可以运行依次列表中[output,increment_step,merged_summaries]\n",
    "    # 其中output表示程序运行的结果,increment_step表示程序的step步数,merged_summaries表示各种总结数据\n",
    "    writer.add_summary(summary, global_step=step)\n",
    "    # global_step参数十分重要,因为他是Tensorflow可以随着时间对数据进行图示."
   ]
  },
  {
   "cell_type": "code",
   "execution_count": 9,
   "metadata": {
    "ExecuteTime": {
     "end_time": "2017-08-24T09:13:58.898375Z",
     "start_time": "2017-08-24T09:13:58.693181Z"
    },
    "collapsed": true,
    "scrolled": true
   },
   "outputs": [],
   "source": [
    "# Run the graph with various inputs\n",
    "run_graph([2,8])\n",
    "run_graph([3,1,3,3])\n",
    "run_graph([8])\n",
    "run_graph([1,2,3])\n",
    "run_graph([11,4])\n",
    "run_graph([4,1])\n",
    "run_graph([7,3,1])\n",
    "run_graph([6,3])\n",
    "run_graph([0,2])\n",
    "run_graph([4,5,6])"
   ]
  },
  {
   "cell_type": "code",
   "execution_count": 10,
   "metadata": {
    "ExecuteTime": {
     "end_time": "2017-08-24T09:14:02.587332Z",
     "start_time": "2017-08-24T09:14:02.557312Z"
    },
    "collapsed": true
   },
   "outputs": [],
   "source": [
    "# Write the summaries to disk\n",
    "writer.flush()"
   ]
  },
  {
   "cell_type": "code",
   "execution_count": 11,
   "metadata": {
    "ExecuteTime": {
     "end_time": "2017-08-24T09:14:04.361306Z",
     "start_time": "2017-08-24T09:14:04.341291Z"
    },
    "collapsed": true
   },
   "outputs": [],
   "source": [
    "# Close the SummaryWriter\n",
    "writer.close()"
   ]
  },
  {
   "cell_type": "code",
   "execution_count": 12,
   "metadata": {
    "ExecuteTime": {
     "end_time": "2017-08-24T09:14:07.800309Z",
     "start_time": "2017-08-24T09:14:07.797293Z"
    },
    "collapsed": true
   },
   "outputs": [],
   "source": [
    "# Close the session\n",
    "sess.close()"
   ]
  },
  {
   "cell_type": "markdown",
   "metadata": {
    "collapsed": true
   },
   "source": [
    "To start TensorBoard after running this code, run the following command:\n",
    "\n",
    "```\n",
    "$ tensorboard --logdir=F://Git/TF-_for_MI/chapters/03_tensorflow_fundamentals/improved_graph\n",
    "```  \n",
    "![graph-run=.png](https://i.loli.net/2017/08/24/599e9dbc1a0e7.png)  \n",
    "![1.png](https://i.loli.net/2017/08/24/599e9ea369528.png)  \n",
    "![2.png](https://i.loli.net/2017/08/24/599e9ebe8d6ba.png)  \n",
    "![3.png](https://i.loli.net/2017/08/24/599e9ebe8e3f1.png)"
   ]
  }
 ],
 "metadata": {
  "kernelspec": {
   "display_name": "Python 3",
   "language": "python",
   "name": "python3"
  },
  "language_info": {
   "codemirror_mode": {
    "name": "ipython",
    "version": 3
   },
   "file_extension": ".py",
   "mimetype": "text/x-python",
   "name": "python",
   "nbconvert_exporter": "python",
   "pygments_lexer": "ipython3",
   "version": "3.5.0"
  },
  "toc": {
   "colors": {
    "hover_highlight": "#DAA520",
    "navigate_num": "#008040",
    "navigate_text": "#00ff00",
    "running_highlight": "#FF0000",
    "selected_highlight": "#FFD700",
    "sidebar_border": "#8080ff",
    "wrapper_background": "#FFFFFF"
   },
   "moveMenuLeft": true,
   "nav_menu": {
    "height": "4px",
    "width": "254px"
   },
   "navigate_menu": true,
   "number_sections": true,
   "sideBar": true,
   "threshold": 4,
   "toc_cell": true,
   "toc_section_display": "block",
   "toc_window_display": false,
   "widenNotebook": false
  }
 },
 "nbformat": 4,
 "nbformat_minor": 1
}
